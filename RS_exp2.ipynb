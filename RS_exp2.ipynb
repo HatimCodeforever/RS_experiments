{
  "nbformat": 4,
  "nbformat_minor": 0,
  "metadata": {
    "colab": {
      "provenance": [],
      "include_colab_link": true
    },
    "kernelspec": {
      "name": "python3",
      "display_name": "Python 3"
    },
    "language_info": {
      "name": "python"
    }
  },
  "cells": [
    {
      "cell_type": "markdown",
      "metadata": {
        "id": "view-in-github",
        "colab_type": "text"
      },
      "source": [
        "<a href=\"https://colab.research.google.com/github/HatimCodeforever/RS_experiments/blob/master/RS_exp2.ipynb\" target=\"_parent\"><img src=\"https://colab.research.google.com/assets/colab-badge.svg\" alt=\"Open In Colab\"/></a>"
      ]
    },
    {
      "cell_type": "markdown",
      "source": [
        "# Build a Recommendation Engine with User-Based Collaborative Filtering"
      ],
      "metadata": {
        "id": "pi5juSWlAcql"
      }
    },
    {
      "cell_type": "code",
      "execution_count": 1,
      "metadata": {
        "colab": {
          "base_uri": "https://localhost:8080/"
        },
        "id": "uXuRICBjAQ5m",
        "outputId": "9343a1c9-4049-444a-c629-49314a2d34e3"
      },
      "outputs": [
        {
          "output_type": "stream",
          "name": "stdout",
          "text": [
            "Recommended items for User3:\n",
            "Item5: Score = 3.795903234811137\n"
          ]
        }
      ],
      "source": [
        "import pandas as pd\n",
        "from sklearn.metrics.pairwise import cosine_similarity\n",
        "\n",
        "# Sample user-item interaction data (replace with your own data)\n",
        "data = {\n",
        "    'User1': [4, 5, 1, 2, 2],\n",
        "    'User2': [5, 3, 4, 5, 5],\n",
        "    'User3': [1, 4, 1, 2, 0],\n",
        "    'User4': [3, 2, 1, 5, 4],\n",
        "    'User5': [3, 2, 1, 5, 4],\n",
        "    'User6': [3, 2, 1, 5, 4],\n",
        "    'User7': [3, 2, 1, 5, 4],\n",
        "    'User8': [3, 2, 1, 5, 4],\n",
        "    'User9': [3, 2, 1, 5, 4],\n",
        "\n",
        "}\n",
        "df = pd.DataFrame(data, index=['Item1', 'Item2', 'Item3', 'Item4', 'Item5'])\n",
        "\n",
        "# Function to calculate cosine similarity between users\n",
        "def calculate_user_similarity(user1, user2):\n",
        "    user1_data = df.loc[:, user1]\n",
        "    user2_data = df.loc[:, user2]\n",
        "    # Use cosine similarity from scikit-learn\n",
        "    similarity = cosine_similarity([user1_data, user2_data])\n",
        "    return similarity[0, 1]\n",
        "\n",
        "# Function to recommend items to a user\n",
        "def recommend_items(target_user, num_recommendations=3):\n",
        "    # Calculate similarity between the target user and all other users\n",
        "    similarities = {}\n",
        "    for user in df.columns:\n",
        "        if user != target_user:\n",
        "            similarity = calculate_user_similarity(target_user, user)\n",
        "            similarities[user] = similarity\n",
        "\n",
        "    # Sort users by similarity in descending order\n",
        "    sorted_users = sorted(similarities, key=similarities.get, reverse=True)\n",
        "\n",
        "    # Generate recommendations based on the most similar user\n",
        "    recommendations = []\n",
        "    for item in df.index:\n",
        "        if df.loc[item, target_user] == 0:\n",
        "            total_score = 0\n",
        "            sim_sum = 0\n",
        "            for user in sorted_users:\n",
        "                if df.loc[item, user] > 0:\n",
        "                    total_score += df.loc[item, user] * similarities[user]\n",
        "                    sim_sum += abs(similarities[user])\n",
        "            if sim_sum > 0:\n",
        "                recommendations.append((item, total_score / sim_sum))\n",
        "\n",
        "    # Sort recommendations by score in descending order\n",
        "    recommendations.sort(key=lambda x: x[1], reverse=True)\n",
        "\n",
        "    # Return the top N recommended items\n",
        "    return recommendations[:num_recommendations]\n",
        "\n",
        "# Example of recommending items to 'User1'\n",
        "target_user = 'User3'\n",
        "recommended_items = recommend_items(target_user, num_recommendations=3)\n",
        "print(f\"Recommended items for {target_user}:\")\n",
        "for item, score in recommended_items:\n",
        "    print(f\"{item}: Score = {score}\")\n"
      ]
    }
  ]
}